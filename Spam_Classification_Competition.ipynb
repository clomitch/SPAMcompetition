{
  "cells": [
    {
      "cell_type": "markdown",
      "metadata": {
        "id": "5lquTPX0Vz4U"
      },
      "source": [
        "### Import Libraries"
      ]
    },
    {
      "cell_type": "code",
      "execution_count": 1,
      "metadata": {
        "id": "AbZol8kXTgG6"
      },
      "outputs": [],
      "source": [
        "import nltk\n",
        "import re\n",
        "import pandas as pd\n",
        "from nltk.tokenize import word_tokenize\n",
        "from nltk.corpus import stopwords\n",
        "from nltk.stem import WordNetLemmatizer\n",
        "from google.colab import drive\n",
        "from sklearn.preprocessing import LabelEncoder\n",
        "from sklearn.feature_extraction.text import TfidfVectorizer\n",
        "from sklearn.naive_bayes import MultinomialNB\n",
        "from sklearn.svm import SVC\n",
        "from sklearn.model_selection import train_test_split\n",
        "from sklearn.metrics import confusion_matrix\n",
        "from sklearn.metrics import f1_score"
      ]
    },
    {
      "cell_type": "code",
      "execution_count": 2,
      "metadata": {
        "colab": {
          "base_uri": "https://localhost:8080/"
        },
        "id": "PNHzJegPZsIe",
        "outputId": "0a5b1032-9631-40bb-9524-e897cde9158d"
      },
      "outputs": [
        {
          "name": "stderr",
          "output_type": "stream",
          "text": [
            "[nltk_data] Downloading package stopwords to /root/nltk_data...\n",
            "[nltk_data]   Package stopwords is already up-to-date!\n",
            "[nltk_data] Downloading package wordnet to /root/nltk_data...\n",
            "[nltk_data]   Package wordnet is already up-to-date!\n",
            "[nltk_data] Downloading package omw-1.4 to /root/nltk_data...\n",
            "[nltk_data]   Package omw-1.4 is already up-to-date!\n",
            "[nltk_data] Downloading package punkt to /root/nltk_data...\n",
            "[nltk_data]   Package punkt is already up-to-date!\n"
          ]
        },
        {
          "data": {
            "text/plain": [
              "True"
            ]
          },
          "execution_count": 2,
          "metadata": {},
          "output_type": "execute_result"
        }
      ],
      "source": [
        "nltk.download('stopwords')\n",
        "nltk.download('wordnet')\n",
        "nltk.download('omw-1.4')\n",
        "nltk.download('punkt')"
      ]
    },
    {
      "cell_type": "markdown",
      "metadata": {
        "id": "rNKSoZ9dV3_A"
      },
      "source": [
        "### Data Extraction"
      ]
    },
    {
      "cell_type": "code",
      "execution_count": 3,
      "metadata": {
        "colab": {
          "base_uri": "https://localhost:8080/"
        },
        "id": "ABNC_LU9Wk28",
        "outputId": "e4c05084-85ff-47f6-fee0-7050f7540f51"
      },
      "outputs": [
        {
          "name": "stdout",
          "output_type": "stream",
          "text": [
            "Drive already mounted at /content/drive; to attempt to forcibly remount, call drive.mount(\"/content/drive\", force_remount=True).\n"
          ]
        }
      ],
      "source": [
        "# Mount drive\n",
        "drive.mount('/content/drive')"
      ]
    },
    {
      "cell_type": "code",
      "execution_count": 4,
      "metadata": {
        "colab": {
          "base_uri": "https://localhost:8080/",
          "height": 206
        },
        "id": "7WRc3iweaccx",
        "outputId": "18a7043c-6ddb-442d-d860-e463bf5087ed"
      },
      "outputs": [
        {
          "data": {
            "application/vnd.google.colaboratory.intrinsic+json": {
              "summary": "{\n  \"name\": \"df\",\n  \"rows\": 46524,\n  \"fields\": [\n    {\n      \"column\": \"label\",\n      \"properties\": {\n        \"dtype\": \"category\",\n        \"num_unique_values\": 2,\n        \"samples\": [\n          \"Spam\",\n          \"Ham\"\n        ],\n        \"semantic_type\": \"\",\n        \"description\": \"\"\n      }\n    },\n    {\n      \"column\": \"text\",\n      \"properties\": {\n        \"dtype\": \"string\",\n        \"num_unique_values\": 46524,\n        \"samples\": [\n          \"- - - - - - - - - - - - - - - - - - - - - - forwarded by ami chokshi / corp / enron on 09 / 08 / 2000\\n09 : 46 am - - - - - - - - - - - - - - - - - - - - - - - - - - -\\nroyal _ b _ edmondson @ reliantenergy . com on 09 / 07 / 2000 02 : 50 : 28 pm\\nto : ami _ chokshi @ enron . com\\ncc :\\nsubject : weekend noms\\n( see attached file : hpl - sept . xls )\\n- hpl - sept . xls\",\n          \"hi james ravi james wrote i have escapenumber entities for which i have escapenumber measurements each so i have a matrix of escapenumber rows by escapenumber columns perhaps i misread james' question but i don't think so as james described it we have escapenumber measurements made on escapenumber objects a pca on this escapenumber rows observations by escapenumber columns descriptors variables should return escapenumber eigenvalues and each of these columns descriptors variables will have a loading on each pc james wants to reduce his descriptors measurements variables to the most important variance a primitive way of doing this would be to examine the loadings on the first escapenumber escapenumber pcs and choose those columns descriptors variables with the highest loadings and throw away the rest he has already decided that he can throw away all but the first two pcs in fact it would be a very good idea to do a coinertia analysis on the pre and post selected sets and look at the rv value if this is above thumbsuck escapenumber escapenumber then you're doing very well there's a good plot method for this in adeescapenumber cf coinertia c but see cadima et al refs for caution and elsewhere for more sophisticated methods of subsetting regards mark ravi varadhan wrote mark what you are referring to deals with the selection of covariates since pc doesn't do dimensionality reduction in the sense of covariate selection but what mark is asking for is to identify how much each data point contributes to individual pcs i don't think that mark's query makes much sense unless he meant to ask which individuals have high low scores on pcescapenumber pcescapenumber here are some comments that may be tangentially related to mark's question escapenumber if one is worried about a few data points contributing heavily to the estimation of pcs then one can use robust pca for example using robust covariance matrices mass has some tools for this escapenumber the biplot for the first escapenumber pcs can give some insights escapenumber pcs especially the last few pcs can be used to identify outliers hope this is helpful ravi ravi varadhan ph d assistant professor the center on aging and health division of geriatric medicine and gerontology johns hopkins university ph escapenumber escapenumber escapenumber fax escapenumber escapenumber escapenumber email rvaradhan jhmi edu webpage http www jhsph edu agingandhealth people faculty varadhan html original message from r help bounces stat math ethz ch mailto r help bounces stat math ethz ch on behalf of mark difford sent monday july escapenumber escapenumber escapenumber escapenumber pm to r help stat math ethz ch subject re r question about pca with prcomp hi james have a look at cadima et al 's subselect package cadima worked with was a student of prof jolliffe one of the experts on pca jolliffe devotes part of a chapter to this question in his text principal component analysis pub springer then you should look at psychometric stuff a good place to start would be professor revelle's psych package bestr mark james r graham wrote hello all the basic premise of what i want to do is the following i have escapenumber entities for which i have escapenumber measurements each so i have a matrix of escapenumber rows by escapenumber columns the escapenumber entities fall into two classes good and bad i eventually would like to derive a model that would then be able to classify new entities as being in good territory or bad territory based upon my existing data set i know that not all escapenumber measurements are meaningful so i thought the best place to begin would be to do a pca in order to reduce the amount of data with which i have to work i did this using the prcomp function and found that nearly escapenumber of the variance in the data is explained by pcescapenumber and escapenumber so far so good i would now like to find out which of the original escapenumber measurements contribute to pcescapenumber and escapenumber and by how much any tips would be greatly appreciated and apologies in advance if this turns out to be an idiotic question james r help stat math ethz ch mailing list https stat ethz ch mailman listinfo r help please do read the posting guide http www r project org posting guide html and provide commented minimal self contained reproducible code view this message in context http www nabble com question about pca with prcomp tfescapenumber html aescapenumber escapenumber sent from the r help mailing list archive at nabble com r help stat math ethz ch mailing list https stat ethz ch mailman listinfo r help please do read the posting guide http www r project org posting guide html and provide commented minimal self contained reproducible code r help stat math ethz ch mailing list https stat ethz ch mailman listinfo r help please do read the posting guide http www r project org posting guide html and provide commented minimal self contained reproducible code view this message in context http www nabble com question about pca with prcomp tfescapenumber html aescapenumber sent from the r help mailing list archive at nabble com r help stat math ethz ch mailing list https stat ethz ch mailman listinfo r help please do read the posting guide http www r project org posting guide html and provide commented minimal self contained reproducible code \"\n        ],\n        \"semantic_type\": \"\",\n        \"description\": \"\"\n      }\n    },\n    {\n      \"column\": \"EmailID\",\n      \"properties\": {\n        \"dtype\": \"number\",\n        \"std\": 13430,\n        \"min\": 0,\n        \"max\": 46523,\n        \"num_unique_values\": 46524,\n        \"samples\": [\n          22558,\n          24727\n        ],\n        \"semantic_type\": \"\",\n        \"description\": \"\"\n      }\n    }\n  ]\n}",
              "type": "dataframe",
              "variable_name": "df"
            },
            "text/html": [
              "\n",
              "  <div id=\"df-505392cb-711d-4703-9095-abb5cb288d12\" class=\"colab-df-container\">\n",
              "    <div>\n",
              "<style scoped>\n",
              "    .dataframe tbody tr th:only-of-type {\n",
              "        vertical-align: middle;\n",
              "    }\n",
              "\n",
              "    .dataframe tbody tr th {\n",
              "        vertical-align: top;\n",
              "    }\n",
              "\n",
              "    .dataframe thead th {\n",
              "        text-align: right;\n",
              "    }\n",
              "</style>\n",
              "<table border=\"1\" class=\"dataframe\">\n",
              "  <thead>\n",
              "    <tr style=\"text-align: right;\">\n",
              "      <th></th>\n",
              "      <th>label</th>\n",
              "      <th>text</th>\n",
              "      <th>EmailID</th>\n",
              "    </tr>\n",
              "  </thead>\n",
              "  <tbody>\n",
              "    <tr>\n",
              "      <th>0</th>\n",
              "      <td>Ham</td>\n",
              "      <td>eric called me last night and i am happy to co...</td>\n",
              "      <td>0</td>\n",
              "    </tr>\n",
              "    <tr>\n",
              "      <th>1</th>\n",
              "      <td>Spam</td>\n",
              "      <td>tr what is funnygadget com funnygadget com ca...</td>\n",
              "      <td>1</td>\n",
              "    </tr>\n",
              "    <tr>\n",
              "      <th>2</th>\n",
              "      <td>Ham</td>\n",
              "      <td>ricky sent me the nom early - 87 , 000 for the...</td>\n",
              "      <td>2</td>\n",
              "    </tr>\n",
              "    <tr>\n",
              "      <th>3</th>\n",
              "      <td>Ham</td>\n",
              "      <td>these are the numbers that are being exported ...</td>\n",
              "      <td>3</td>\n",
              "    </tr>\n",
              "    <tr>\n",
              "      <th>4</th>\n",
              "      <td>Spam</td>\n",
              "      <td>authentic replica rolex and other watches for ...</td>\n",
              "      <td>4</td>\n",
              "    </tr>\n",
              "  </tbody>\n",
              "</table>\n",
              "</div>\n",
              "    <div class=\"colab-df-buttons\">\n",
              "\n",
              "  <div class=\"colab-df-container\">\n",
              "    <button class=\"colab-df-convert\" onclick=\"convertToInteractive('df-505392cb-711d-4703-9095-abb5cb288d12')\"\n",
              "            title=\"Convert this dataframe to an interactive table.\"\n",
              "            style=\"display:none;\">\n",
              "\n",
              "  <svg xmlns=\"http://www.w3.org/2000/svg\" height=\"24px\" viewBox=\"0 -960 960 960\">\n",
              "    <path d=\"M120-120v-720h720v720H120Zm60-500h600v-160H180v160Zm220 220h160v-160H400v160Zm0 220h160v-160H400v160ZM180-400h160v-160H180v160Zm440 0h160v-160H620v160ZM180-180h160v-160H180v160Zm440 0h160v-160H620v160Z\"/>\n",
              "  </svg>\n",
              "    </button>\n",
              "\n",
              "  <style>\n",
              "    .colab-df-container {\n",
              "      display:flex;\n",
              "      gap: 12px;\n",
              "    }\n",
              "\n",
              "    .colab-df-convert {\n",
              "      background-color: #E8F0FE;\n",
              "      border: none;\n",
              "      border-radius: 50%;\n",
              "      cursor: pointer;\n",
              "      display: none;\n",
              "      fill: #1967D2;\n",
              "      height: 32px;\n",
              "      padding: 0 0 0 0;\n",
              "      width: 32px;\n",
              "    }\n",
              "\n",
              "    .colab-df-convert:hover {\n",
              "      background-color: #E2EBFA;\n",
              "      box-shadow: 0px 1px 2px rgba(60, 64, 67, 0.3), 0px 1px 3px 1px rgba(60, 64, 67, 0.15);\n",
              "      fill: #174EA6;\n",
              "    }\n",
              "\n",
              "    .colab-df-buttons div {\n",
              "      margin-bottom: 4px;\n",
              "    }\n",
              "\n",
              "    [theme=dark] .colab-df-convert {\n",
              "      background-color: #3B4455;\n",
              "      fill: #D2E3FC;\n",
              "    }\n",
              "\n",
              "    [theme=dark] .colab-df-convert:hover {\n",
              "      background-color: #434B5C;\n",
              "      box-shadow: 0px 1px 3px 1px rgba(0, 0, 0, 0.15);\n",
              "      filter: drop-shadow(0px 1px 2px rgba(0, 0, 0, 0.3));\n",
              "      fill: #FFFFFF;\n",
              "    }\n",
              "  </style>\n",
              "\n",
              "    <script>\n",
              "      const buttonEl =\n",
              "        document.querySelector('#df-505392cb-711d-4703-9095-abb5cb288d12 button.colab-df-convert');\n",
              "      buttonEl.style.display =\n",
              "        google.colab.kernel.accessAllowed ? 'block' : 'none';\n",
              "\n",
              "      async function convertToInteractive(key) {\n",
              "        const element = document.querySelector('#df-505392cb-711d-4703-9095-abb5cb288d12');\n",
              "        const dataTable =\n",
              "          await google.colab.kernel.invokeFunction('convertToInteractive',\n",
              "                                                    [key], {});\n",
              "        if (!dataTable) return;\n",
              "\n",
              "        const docLinkHtml = 'Like what you see? Visit the ' +\n",
              "          '<a target=\"_blank\" href=https://colab.research.google.com/notebooks/data_table.ipynb>data table notebook</a>'\n",
              "          + ' to learn more about interactive tables.';\n",
              "        element.innerHTML = '';\n",
              "        dataTable['output_type'] = 'display_data';\n",
              "        await google.colab.output.renderOutput(dataTable, element);\n",
              "        const docLink = document.createElement('div');\n",
              "        docLink.innerHTML = docLinkHtml;\n",
              "        element.appendChild(docLink);\n",
              "      }\n",
              "    </script>\n",
              "  </div>\n",
              "\n",
              "\n",
              "<div id=\"df-4465c4a8-c27a-4511-ae1c-9fe57f6303f9\">\n",
              "  <button class=\"colab-df-quickchart\" onclick=\"quickchart('df-4465c4a8-c27a-4511-ae1c-9fe57f6303f9')\"\n",
              "            title=\"Suggest charts\"\n",
              "            style=\"display:none;\">\n",
              "\n",
              "<svg xmlns=\"http://www.w3.org/2000/svg\" height=\"24px\"viewBox=\"0 0 24 24\"\n",
              "     width=\"24px\">\n",
              "    <g>\n",
              "        <path d=\"M19 3H5c-1.1 0-2 .9-2 2v14c0 1.1.9 2 2 2h14c1.1 0 2-.9 2-2V5c0-1.1-.9-2-2-2zM9 17H7v-7h2v7zm4 0h-2V7h2v10zm4 0h-2v-4h2v4z\"/>\n",
              "    </g>\n",
              "</svg>\n",
              "  </button>\n",
              "\n",
              "<style>\n",
              "  .colab-df-quickchart {\n",
              "      --bg-color: #E8F0FE;\n",
              "      --fill-color: #1967D2;\n",
              "      --hover-bg-color: #E2EBFA;\n",
              "      --hover-fill-color: #174EA6;\n",
              "      --disabled-fill-color: #AAA;\n",
              "      --disabled-bg-color: #DDD;\n",
              "  }\n",
              "\n",
              "  [theme=dark] .colab-df-quickchart {\n",
              "      --bg-color: #3B4455;\n",
              "      --fill-color: #D2E3FC;\n",
              "      --hover-bg-color: #434B5C;\n",
              "      --hover-fill-color: #FFFFFF;\n",
              "      --disabled-bg-color: #3B4455;\n",
              "      --disabled-fill-color: #666;\n",
              "  }\n",
              "\n",
              "  .colab-df-quickchart {\n",
              "    background-color: var(--bg-color);\n",
              "    border: none;\n",
              "    border-radius: 50%;\n",
              "    cursor: pointer;\n",
              "    display: none;\n",
              "    fill: var(--fill-color);\n",
              "    height: 32px;\n",
              "    padding: 0;\n",
              "    width: 32px;\n",
              "  }\n",
              "\n",
              "  .colab-df-quickchart:hover {\n",
              "    background-color: var(--hover-bg-color);\n",
              "    box-shadow: 0 1px 2px rgba(60, 64, 67, 0.3), 0 1px 3px 1px rgba(60, 64, 67, 0.15);\n",
              "    fill: var(--button-hover-fill-color);\n",
              "  }\n",
              "\n",
              "  .colab-df-quickchart-complete:disabled,\n",
              "  .colab-df-quickchart-complete:disabled:hover {\n",
              "    background-color: var(--disabled-bg-color);\n",
              "    fill: var(--disabled-fill-color);\n",
              "    box-shadow: none;\n",
              "  }\n",
              "\n",
              "  .colab-df-spinner {\n",
              "    border: 2px solid var(--fill-color);\n",
              "    border-color: transparent;\n",
              "    border-bottom-color: var(--fill-color);\n",
              "    animation:\n",
              "      spin 1s steps(1) infinite;\n",
              "  }\n",
              "\n",
              "  @keyframes spin {\n",
              "    0% {\n",
              "      border-color: transparent;\n",
              "      border-bottom-color: var(--fill-color);\n",
              "      border-left-color: var(--fill-color);\n",
              "    }\n",
              "    20% {\n",
              "      border-color: transparent;\n",
              "      border-left-color: var(--fill-color);\n",
              "      border-top-color: var(--fill-color);\n",
              "    }\n",
              "    30% {\n",
              "      border-color: transparent;\n",
              "      border-left-color: var(--fill-color);\n",
              "      border-top-color: var(--fill-color);\n",
              "      border-right-color: var(--fill-color);\n",
              "    }\n",
              "    40% {\n",
              "      border-color: transparent;\n",
              "      border-right-color: var(--fill-color);\n",
              "      border-top-color: var(--fill-color);\n",
              "    }\n",
              "    60% {\n",
              "      border-color: transparent;\n",
              "      border-right-color: var(--fill-color);\n",
              "    }\n",
              "    80% {\n",
              "      border-color: transparent;\n",
              "      border-right-color: var(--fill-color);\n",
              "      border-bottom-color: var(--fill-color);\n",
              "    }\n",
              "    90% {\n",
              "      border-color: transparent;\n",
              "      border-bottom-color: var(--fill-color);\n",
              "    }\n",
              "  }\n",
              "</style>\n",
              "\n",
              "  <script>\n",
              "    async function quickchart(key) {\n",
              "      const quickchartButtonEl =\n",
              "        document.querySelector('#' + key + ' button');\n",
              "      quickchartButtonEl.disabled = true;  // To prevent multiple clicks.\n",
              "      quickchartButtonEl.classList.add('colab-df-spinner');\n",
              "      try {\n",
              "        const charts = await google.colab.kernel.invokeFunction(\n",
              "            'suggestCharts', [key], {});\n",
              "      } catch (error) {\n",
              "        console.error('Error during call to suggestCharts:', error);\n",
              "      }\n",
              "      quickchartButtonEl.classList.remove('colab-df-spinner');\n",
              "      quickchartButtonEl.classList.add('colab-df-quickchart-complete');\n",
              "    }\n",
              "    (() => {\n",
              "      let quickchartButtonEl =\n",
              "        document.querySelector('#df-4465c4a8-c27a-4511-ae1c-9fe57f6303f9 button');\n",
              "      quickchartButtonEl.style.display =\n",
              "        google.colab.kernel.accessAllowed ? 'block' : 'none';\n",
              "    })();\n",
              "  </script>\n",
              "</div>\n",
              "\n",
              "    </div>\n",
              "  </div>\n"
            ],
            "text/plain": [
              "  label                                               text  EmailID\n",
              "0   Ham  eric called me last night and i am happy to co...        0\n",
              "1  Spam   tr what is funnygadget com funnygadget com ca...        1\n",
              "2   Ham  ricky sent me the nom early - 87 , 000 for the...        2\n",
              "3   Ham  these are the numbers that are being exported ...        3\n",
              "4  Spam  authentic replica rolex and other watches for ...        4"
            ]
          },
          "execution_count": 4,
          "metadata": {},
          "output_type": "execute_result"
        }
      ],
      "source": [
        "# Import csv data into dataframe\n",
        "df = pd.read_csv('/content/drive/MyDrive/Colab Notebooks/Spam Classification Competition/train.csv')\n",
        "\n",
        "df.head()"
      ]
    },
    {
      "cell_type": "markdown",
      "metadata": {
        "id": "Otm8DurSYCV5"
      },
      "source": [
        "### Text Tokenization"
      ]
    },
    {
      "cell_type": "code",
      "execution_count": 5,
      "metadata": {
        "colab": {
          "base_uri": "https://localhost:8080/"
        },
        "id": "Cq5Z0hygfvhc",
        "outputId": "550f56e8-3089-4ac7-c3a2-d504a38d2710"
      },
      "outputs": [
        {
          "data": {
            "text/plain": [
              "0        eric called me last night and i am happy to co...\n",
              "1         tr what is funnygadget com funnygadget com ca...\n",
              "2        ricky sent me the nom early - 87 , 000 for the...\n",
              "3        these are the numbers that are being exported ...\n",
              "4        authentic replica rolex and other watches for ...\n",
              "                               ...                        \n",
              "46519    thanks mo original message white stacey w sent...\n",
              "46520    hello , welcome to the medzo flagstaff nline\\n...\n",
              "46521    here are different kinds of drugs for hair l o...\n",
              "46522    dear customer do you shop for medications on t...\n",
              "46523    yap international , inc . ( ypil )\\nvoip techn...\n",
              "Name: text, Length: 46524, dtype: object"
            ]
          },
          "execution_count": 5,
          "metadata": {},
          "output_type": "execute_result"
        }
      ],
      "source": [
        "# Convert column text to lowercase\n",
        "df['text'] = df['text'].apply(lambda row: row.lower())\n",
        "df['text']"
      ]
    },
    {
      "cell_type": "code",
      "execution_count": 6,
      "metadata": {
        "colab": {
          "base_uri": "https://localhost:8080/"
        },
        "id": "pRYhoT2eYGmr",
        "outputId": "1aaa7f6f-d369-4480-8003-96497add85bb"
      },
      "outputs": [
        {
          "data": {
            "text/plain": [
              "0        [eric, called, me, last, night, and, i, am, ha...\n",
              "1        [tr, what, is, funnygadget, com, funnygadget, ...\n",
              "2        [ricky, sent, me, the, nom, early, -, 87, ,, 0...\n",
              "3        [these, are, the, numbers, that, are, being, e...\n",
              "4        [authentic, replica, rolex, and, other, watche...\n",
              "                               ...                        \n",
              "46519    [thanks, mo, original, message, white, stacey,...\n",
              "46520    [hello, ,, welcome, to, the, medzo, flagstaff,...\n",
              "46521    [here, are, different, kinds, of, drugs, for, ...\n",
              "46522    [dear, customer, do, you, shop, for, medicatio...\n",
              "46523    [yap, international, ,, inc, ., (, ypil, ), vo...\n",
              "Name: text, Length: 46524, dtype: object"
            ]
          },
          "execution_count": 6,
          "metadata": {},
          "output_type": "execute_result"
        }
      ],
      "source": [
        "# Tokenize the column text\n",
        "df['text'] = df['text'].apply(lambda row: nltk.word_tokenize(row))\n",
        "df['text']"
      ]
    },
    {
      "cell_type": "markdown",
      "metadata": {
        "id": "jvrROLYfWF0o"
      },
      "source": [
        "### Text Normalization"
      ]
    },
    {
      "cell_type": "code",
      "execution_count": 7,
      "metadata": {
        "colab": {
          "base_uri": "https://localhost:8080/"
        },
        "id": "rYcgTK7weP_j",
        "outputId": "9acf213d-b857-4fe9-d74d-cecfa0634266"
      },
      "outputs": [
        {
          "data": {
            "text/plain": [
              "0        [eric, called, me, last, night, and, i, am, ha...\n",
              "1        [tr, what, is, funnygadget, com, funnygadget, ...\n",
              "2        [ricky, sent, me, the, nom, early, for, the, w...\n",
              "3        [these, are, the, numbers, that, are, being, e...\n",
              "4        [authentic, replica, rolex, and, other, watche...\n",
              "                               ...                        \n",
              "46519    [thanks, mo, original, message, white, stacey,...\n",
              "46520    [hello, welcome, to, the, medzo, flagstaff, nl...\n",
              "46521    [here, are, different, kinds, of, drugs, for, ...\n",
              "46522    [dear, customer, do, you, shop, for, medicatio...\n",
              "46523    [yap, international, inc, ypil, voip, technolo...\n",
              "Name: text, Length: 46524, dtype: object"
            ]
          },
          "execution_count": 7,
          "metadata": {},
          "output_type": "execute_result"
        }
      ],
      "source": [
        "# Removing punctuation and non-alphabetic characters\n",
        "df['text'] = df['text'].apply(lambda row: [re.sub(r'[^a-zA-Z]','', token) for token in row if token.isalpha()])\n",
        "df['text']"
      ]
    },
    {
      "cell_type": "code",
      "execution_count": 8,
      "metadata": {
        "colab": {
          "base_uri": "https://localhost:8080/"
        },
        "id": "COggTZd5e-w5",
        "outputId": "10f3416d-cca5-4398-a451-523f2e1cf0bd"
      },
      "outputs": [
        {
          "data": {
            "text/plain": [
              "0        [eric, called, last, night, happy, cover, atte...\n",
              "1        [tr, funnygadget, com, funnygadget, com, provi...\n",
              "2        [ricky, sent, nom, early, weekend, new, number...\n",
              "3        [numbers, exported, dpr, please, review, notif...\n",
              "4        [authentic, replica, rolex, watches, men, ladi...\n",
              "                               ...                        \n",
              "46519    [thanks, mo, original, message, white, stacey,...\n",
              "46520    [hello, welcome, medzo, flagstaff, nline, onli...\n",
              "46521    [different, kinds, drugs, hair, l, pain, relie...\n",
              "46522    [dear, customer, shop, medications, web, know,...\n",
              "46523    [yap, international, inc, ypil, voip, technolo...\n",
              "Name: text, Length: 46524, dtype: object"
            ]
          },
          "execution_count": 8,
          "metadata": {},
          "output_type": "execute_result"
        }
      ],
      "source": [
        "# Remove stop words\n",
        "stop_words = set(stopwords.words('english'))\n",
        "df['text'] = df['text'].apply(lambda row: [token for token in row if token not in stop_words])\n",
        "df['text']"
      ]
    },
    {
      "cell_type": "code",
      "execution_count": 9,
      "metadata": {
        "colab": {
          "base_uri": "https://localhost:8080/"
        },
        "id": "Ql7dwCJuWmJ9",
        "outputId": "30ec2334-5c78-4b4e-9372-97fbf290f6b1"
      },
      "outputs": [
        {
          "data": {
            "text/plain": [
              "0        [eric, called, last, night, happy, cover, atte...\n",
              "1        [tr, funnygadget, com, funnygadget, com, provi...\n",
              "2        [ricky, sent, nom, early, weekend, new, number...\n",
              "3        [number, exported, dpr, please, review, notify...\n",
              "4        [authentic, replica, rolex, watch, men, lady, ...\n",
              "                               ...                        \n",
              "46519    [thanks, mo, original, message, white, stacey,...\n",
              "46520    [hello, welcome, medzo, flagstaff, nline, onli...\n",
              "46521    [different, kind, drug, hair, l, pain, relief,...\n",
              "46522    [dear, customer, shop, medication, web, know, ...\n",
              "46523    [yap, international, inc, ypil, voip, technolo...\n",
              "Name: text, Length: 46524, dtype: object"
            ]
          },
          "execution_count": 9,
          "metadata": {},
          "output_type": "execute_result"
        }
      ],
      "source": [
        "# Lemmatize tokens\n",
        "lemmatizer = WordNetLemmatizer()\n",
        "df['text'] = df['text'].apply(lambda row: [lemmatizer.lemmatize(token) for token in row])\n",
        "df['text']"
      ]
    },
    {
      "cell_type": "code",
      "execution_count": 10,
      "metadata": {
        "colab": {
          "base_uri": "https://localhost:8080/"
        },
        "id": "aI1cTym5hJdn",
        "outputId": "c86953b7-2a0a-4146-9c5e-e954574b2fb1"
      },
      "outputs": [
        {
          "data": {
            "text/plain": [
              "0        eric called last night happy cover attend wast...\n",
              "1        tr funnygadget com funnygadget com provide lat...\n",
              "2        ricky sent nom early weekend new number thanks...\n",
              "3        number exported dpr please review notify chang...\n",
              "4        authentic replica rolex watch men lady escapen...\n",
              "                               ...                        \n",
              "46519    thanks mo original message white stacey w sent...\n",
              "46520    hello welcome medzo flagstaff nline online pha...\n",
              "46521    different kind drug hair l pain relief antidep...\n",
              "46522    dear customer shop medication web know escapen...\n",
              "46523    yap international inc ypil voip technology req...\n",
              "Name: text, Length: 46524, dtype: object"
            ]
          },
          "execution_count": 10,
          "metadata": {},
          "output_type": "execute_result"
        }
      ],
      "source": [
        "# Join tokens back into normalized text\n",
        "df['text'] = df['text'].apply(lambda row: ' '.join(row))\n",
        "df['text']"
      ]
    },
    {
      "cell_type": "markdown",
      "metadata": {
        "id": "bnYV9k9HWNtY"
      },
      "source": [
        "### Train/Test Split of Data"
      ]
    },
    {
      "cell_type": "code",
      "execution_count": 11,
      "metadata": {
        "id": "cdjaO2SeiX8t"
      },
      "outputs": [],
      "source": [
        "# Separating the target Variable\n",
        "y = df['label']\n",
        "\n",
        "# Converting to numerical values (0,1)\n",
        "l = LabelEncoder()\n",
        "y = l.fit_transform(y)"
      ]
    },
    {
      "cell_type": "code",
      "execution_count": 12,
      "metadata": {
        "id": "sSwsQWYvloe8"
      },
      "outputs": [],
      "source": [
        "# Separating the decision variable\n",
        "x = df['text']"
      ]
    },
    {
      "cell_type": "code",
      "execution_count": 13,
      "metadata": {
        "id": "yjLxeE9WXwzg"
      },
      "outputs": [],
      "source": [
        "# Split dataset in 80/20 for training and testing\n",
        "x_train, x_test, y_train, y_test = train_test_split(x, y, test_size=0.2, random_state=42)"
      ]
    },
    {
      "cell_type": "code",
      "execution_count": 14,
      "metadata": {
        "id": "_60Voh8RJWpd"
      },
      "outputs": [],
      "source": [
        "# Covert data into TF-IDF vector\n",
        "vectorizer = TfidfVectorizer(max_features=10000)\n",
        "x_train_tf = vectorizer.fit_transform(x_train)\n",
        "x_test_tf = vectorizer.transform(x_test)"
      ]
    },
    {
      "cell_type": "markdown",
      "metadata": {
        "id": "LvTLD3-bWYMc"
      },
      "source": [
        "### Creating Predictive Models"
      ]
    },
    {
      "cell_type": "markdown",
      "metadata": {
        "id": "RqfWZYseM_cq"
      },
      "source": [
        "#### Naive Bayes Model"
      ]
    },
    {
      "cell_type": "code",
      "execution_count": 15,
      "metadata": {
        "id": "iKeYidQEXxVi"
      },
      "outputs": [],
      "source": [
        "# Create the Model\n",
        "classifier = MultinomialNB()"
      ]
    },
    {
      "cell_type": "code",
      "execution_count": 16,
      "metadata": {
        "colab": {
          "base_uri": "https://localhost:8080/",
          "height": 74
        },
        "id": "JzJ2UnmImaS-",
        "outputId": "b72f5970-dff5-4489-b085-0a9c726d2314"
      },
      "outputs": [
        {
          "data": {
            "text/html": [
              "<style>#sk-container-id-1 {color: black;background-color: white;}#sk-container-id-1 pre{padding: 0;}#sk-container-id-1 div.sk-toggleable {background-color: white;}#sk-container-id-1 label.sk-toggleable__label {cursor: pointer;display: block;width: 100%;margin-bottom: 0;padding: 0.3em;box-sizing: border-box;text-align: center;}#sk-container-id-1 label.sk-toggleable__label-arrow:before {content: \"▸\";float: left;margin-right: 0.25em;color: #696969;}#sk-container-id-1 label.sk-toggleable__label-arrow:hover:before {color: black;}#sk-container-id-1 div.sk-estimator:hover label.sk-toggleable__label-arrow:before {color: black;}#sk-container-id-1 div.sk-toggleable__content {max-height: 0;max-width: 0;overflow: hidden;text-align: left;background-color: #f0f8ff;}#sk-container-id-1 div.sk-toggleable__content pre {margin: 0.2em;color: black;border-radius: 0.25em;background-color: #f0f8ff;}#sk-container-id-1 input.sk-toggleable__control:checked~div.sk-toggleable__content {max-height: 200px;max-width: 100%;overflow: auto;}#sk-container-id-1 input.sk-toggleable__control:checked~label.sk-toggleable__label-arrow:before {content: \"▾\";}#sk-container-id-1 div.sk-estimator input.sk-toggleable__control:checked~label.sk-toggleable__label {background-color: #d4ebff;}#sk-container-id-1 div.sk-label input.sk-toggleable__control:checked~label.sk-toggleable__label {background-color: #d4ebff;}#sk-container-id-1 input.sk-hidden--visually {border: 0;clip: rect(1px 1px 1px 1px);clip: rect(1px, 1px, 1px, 1px);height: 1px;margin: -1px;overflow: hidden;padding: 0;position: absolute;width: 1px;}#sk-container-id-1 div.sk-estimator {font-family: monospace;background-color: #f0f8ff;border: 1px dotted black;border-radius: 0.25em;box-sizing: border-box;margin-bottom: 0.5em;}#sk-container-id-1 div.sk-estimator:hover {background-color: #d4ebff;}#sk-container-id-1 div.sk-parallel-item::after {content: \"\";width: 100%;border-bottom: 1px solid gray;flex-grow: 1;}#sk-container-id-1 div.sk-label:hover label.sk-toggleable__label {background-color: #d4ebff;}#sk-container-id-1 div.sk-serial::before {content: \"\";position: absolute;border-left: 1px solid gray;box-sizing: border-box;top: 0;bottom: 0;left: 50%;z-index: 0;}#sk-container-id-1 div.sk-serial {display: flex;flex-direction: column;align-items: center;background-color: white;padding-right: 0.2em;padding-left: 0.2em;position: relative;}#sk-container-id-1 div.sk-item {position: relative;z-index: 1;}#sk-container-id-1 div.sk-parallel {display: flex;align-items: stretch;justify-content: center;background-color: white;position: relative;}#sk-container-id-1 div.sk-item::before, #sk-container-id-1 div.sk-parallel-item::before {content: \"\";position: absolute;border-left: 1px solid gray;box-sizing: border-box;top: 0;bottom: 0;left: 50%;z-index: -1;}#sk-container-id-1 div.sk-parallel-item {display: flex;flex-direction: column;z-index: 1;position: relative;background-color: white;}#sk-container-id-1 div.sk-parallel-item:first-child::after {align-self: flex-end;width: 50%;}#sk-container-id-1 div.sk-parallel-item:last-child::after {align-self: flex-start;width: 50%;}#sk-container-id-1 div.sk-parallel-item:only-child::after {width: 0;}#sk-container-id-1 div.sk-dashed-wrapped {border: 1px dashed gray;margin: 0 0.4em 0.5em 0.4em;box-sizing: border-box;padding-bottom: 0.4em;background-color: white;}#sk-container-id-1 div.sk-label label {font-family: monospace;font-weight: bold;display: inline-block;line-height: 1.2em;}#sk-container-id-1 div.sk-label-container {text-align: center;}#sk-container-id-1 div.sk-container {/* jupyter's `normalize.less` sets `[hidden] { display: none; }` but bootstrap.min.css set `[hidden] { display: none !important; }` so we also need the `!important` here to be able to override the default hidden behavior on the sphinx rendered scikit-learn.org. See: https://github.com/scikit-learn/scikit-learn/issues/21755 */display: inline-block !important;position: relative;}#sk-container-id-1 div.sk-text-repr-fallback {display: none;}</style><div id=\"sk-container-id-1\" class=\"sk-top-container\"><div class=\"sk-text-repr-fallback\"><pre>MultinomialNB()</pre><b>In a Jupyter environment, please rerun this cell to show the HTML representation or trust the notebook. <br />On GitHub, the HTML representation is unable to render, please try loading this page with nbviewer.org.</b></div><div class=\"sk-container\" hidden><div class=\"sk-item\"><div class=\"sk-estimator sk-toggleable\"><input class=\"sk-toggleable__control sk-hidden--visually\" id=\"sk-estimator-id-1\" type=\"checkbox\" checked><label for=\"sk-estimator-id-1\" class=\"sk-toggleable__label sk-toggleable__label-arrow\">MultinomialNB</label><div class=\"sk-toggleable__content\"><pre>MultinomialNB()</pre></div></div></div></div></div>"
            ],
            "text/plain": [
              "MultinomialNB()"
            ]
          },
          "execution_count": 16,
          "metadata": {},
          "output_type": "execute_result"
        }
      ],
      "source": [
        "# Train Model\n",
        "classifier.fit(x_train_tf,y_train)"
      ]
    },
    {
      "cell_type": "code",
      "execution_count": 17,
      "metadata": {
        "colab": {
          "base_uri": "https://localhost:8080/"
        },
        "id": "1nheh-HSmdAK",
        "outputId": "d97f9fc3-1324-412e-d322-51f3a403c534"
      },
      "outputs": [
        {
          "name": "stdout",
          "output_type": "stream",
          "text": [
            "[[4765  165]\n",
            " [ 369 4006]]\n",
            "F1 Score:  0.9375146267259535\n"
          ]
        }
      ],
      "source": [
        "# Test Model\n",
        "y_pred = classifier.predict(x_test_tf)\n",
        "print(confusion_matrix(y_test,y_pred))\n",
        "print(\"F1 Score: \",f1_score(y_test,y_pred))"
      ]
    },
    {
      "cell_type": "markdown",
      "metadata": {
        "id": "xADMOZagNHKt"
      },
      "source": [
        "#### Support Vector Machine Model"
      ]
    },
    {
      "cell_type": "code",
      "execution_count": 18,
      "metadata": {
        "id": "gHiE3DhC0_NY"
      },
      "outputs": [],
      "source": [
        "# Creating the Model\n",
        "svmModel = SVC(kernel=\"rbf\", gamma=0.5, C=1.0)"
      ]
    },
    {
      "cell_type": "code",
      "execution_count": 19,
      "metadata": {
        "colab": {
          "base_uri": "https://localhost:8080/",
          "height": 74
        },
        "id": "E0F8Up5Pn33D",
        "outputId": "f839da3d-6146-475a-bc6e-8c5409ce984a"
      },
      "outputs": [
        {
          "data": {
            "text/html": [
              "<style>#sk-container-id-2 {color: black;background-color: white;}#sk-container-id-2 pre{padding: 0;}#sk-container-id-2 div.sk-toggleable {background-color: white;}#sk-container-id-2 label.sk-toggleable__label {cursor: pointer;display: block;width: 100%;margin-bottom: 0;padding: 0.3em;box-sizing: border-box;text-align: center;}#sk-container-id-2 label.sk-toggleable__label-arrow:before {content: \"▸\";float: left;margin-right: 0.25em;color: #696969;}#sk-container-id-2 label.sk-toggleable__label-arrow:hover:before {color: black;}#sk-container-id-2 div.sk-estimator:hover label.sk-toggleable__label-arrow:before {color: black;}#sk-container-id-2 div.sk-toggleable__content {max-height: 0;max-width: 0;overflow: hidden;text-align: left;background-color: #f0f8ff;}#sk-container-id-2 div.sk-toggleable__content pre {margin: 0.2em;color: black;border-radius: 0.25em;background-color: #f0f8ff;}#sk-container-id-2 input.sk-toggleable__control:checked~div.sk-toggleable__content {max-height: 200px;max-width: 100%;overflow: auto;}#sk-container-id-2 input.sk-toggleable__control:checked~label.sk-toggleable__label-arrow:before {content: \"▾\";}#sk-container-id-2 div.sk-estimator input.sk-toggleable__control:checked~label.sk-toggleable__label {background-color: #d4ebff;}#sk-container-id-2 div.sk-label input.sk-toggleable__control:checked~label.sk-toggleable__label {background-color: #d4ebff;}#sk-container-id-2 input.sk-hidden--visually {border: 0;clip: rect(1px 1px 1px 1px);clip: rect(1px, 1px, 1px, 1px);height: 1px;margin: -1px;overflow: hidden;padding: 0;position: absolute;width: 1px;}#sk-container-id-2 div.sk-estimator {font-family: monospace;background-color: #f0f8ff;border: 1px dotted black;border-radius: 0.25em;box-sizing: border-box;margin-bottom: 0.5em;}#sk-container-id-2 div.sk-estimator:hover {background-color: #d4ebff;}#sk-container-id-2 div.sk-parallel-item::after {content: \"\";width: 100%;border-bottom: 1px solid gray;flex-grow: 1;}#sk-container-id-2 div.sk-label:hover label.sk-toggleable__label {background-color: #d4ebff;}#sk-container-id-2 div.sk-serial::before {content: \"\";position: absolute;border-left: 1px solid gray;box-sizing: border-box;top: 0;bottom: 0;left: 50%;z-index: 0;}#sk-container-id-2 div.sk-serial {display: flex;flex-direction: column;align-items: center;background-color: white;padding-right: 0.2em;padding-left: 0.2em;position: relative;}#sk-container-id-2 div.sk-item {position: relative;z-index: 1;}#sk-container-id-2 div.sk-parallel {display: flex;align-items: stretch;justify-content: center;background-color: white;position: relative;}#sk-container-id-2 div.sk-item::before, #sk-container-id-2 div.sk-parallel-item::before {content: \"\";position: absolute;border-left: 1px solid gray;box-sizing: border-box;top: 0;bottom: 0;left: 50%;z-index: -1;}#sk-container-id-2 div.sk-parallel-item {display: flex;flex-direction: column;z-index: 1;position: relative;background-color: white;}#sk-container-id-2 div.sk-parallel-item:first-child::after {align-self: flex-end;width: 50%;}#sk-container-id-2 div.sk-parallel-item:last-child::after {align-self: flex-start;width: 50%;}#sk-container-id-2 div.sk-parallel-item:only-child::after {width: 0;}#sk-container-id-2 div.sk-dashed-wrapped {border: 1px dashed gray;margin: 0 0.4em 0.5em 0.4em;box-sizing: border-box;padding-bottom: 0.4em;background-color: white;}#sk-container-id-2 div.sk-label label {font-family: monospace;font-weight: bold;display: inline-block;line-height: 1.2em;}#sk-container-id-2 div.sk-label-container {text-align: center;}#sk-container-id-2 div.sk-container {/* jupyter's `normalize.less` sets `[hidden] { display: none; }` but bootstrap.min.css set `[hidden] { display: none !important; }` so we also need the `!important` here to be able to override the default hidden behavior on the sphinx rendered scikit-learn.org. See: https://github.com/scikit-learn/scikit-learn/issues/21755 */display: inline-block !important;position: relative;}#sk-container-id-2 div.sk-text-repr-fallback {display: none;}</style><div id=\"sk-container-id-2\" class=\"sk-top-container\"><div class=\"sk-text-repr-fallback\"><pre>SVC(gamma=0.5)</pre><b>In a Jupyter environment, please rerun this cell to show the HTML representation or trust the notebook. <br />On GitHub, the HTML representation is unable to render, please try loading this page with nbviewer.org.</b></div><div class=\"sk-container\" hidden><div class=\"sk-item\"><div class=\"sk-estimator sk-toggleable\"><input class=\"sk-toggleable__control sk-hidden--visually\" id=\"sk-estimator-id-2\" type=\"checkbox\" checked><label for=\"sk-estimator-id-2\" class=\"sk-toggleable__label sk-toggleable__label-arrow\">SVC</label><div class=\"sk-toggleable__content\"><pre>SVC(gamma=0.5)</pre></div></div></div></div></div>"
            ],
            "text/plain": [
              "SVC(gamma=0.5)"
            ]
          },
          "execution_count": 19,
          "metadata": {},
          "output_type": "execute_result"
        }
      ],
      "source": [
        "# Train Model\n",
        "svmModel.fit(x_train_tf,y_train)"
      ]
    },
    {
      "cell_type": "code",
      "execution_count": 20,
      "metadata": {
        "colab": {
          "base_uri": "https://localhost:8080/"
        },
        "id": "ZepbWzAi1OuM",
        "outputId": "3d2689cd-6457-42e6-a492-5519ae7fb972"
      },
      "outputs": [
        {
          "name": "stdout",
          "output_type": "stream",
          "text": [
            "[[4800  130]\n",
            " [  97 4278]]\n",
            "F1 Score:  0.9741546168735057\n"
          ]
        }
      ],
      "source": [
        "# Test the Model\n",
        "y_pred2 = svmModel.predict(x_test_tf)\n",
        "print(confusion_matrix(y_test,y_pred2))\n",
        "print(\"F1 Score: \",f1_score(y_test,y_pred2))"
      ]
    },
    {
      "cell_type": "markdown",
      "metadata": {
        "id": "3F6zQ1dcWdaR"
      },
      "source": [
        "### Making Predictions with the Models"
      ]
    },
    {
      "cell_type": "code",
      "execution_count": 21,
      "metadata": {
        "colab": {
          "base_uri": "https://localhost:8080/",
          "height": 206
        },
        "id": "UIJ-iB2fXx8x",
        "outputId": "25ef461b-023e-40b3-fc88-aec8642e7c3a"
      },
      "outputs": [
        {
          "data": {
            "application/vnd.google.colaboratory.intrinsic+json": {
              "summary": "{\n  \"name\": \"df_test\",\n  \"rows\": 11631,\n  \"fields\": [\n    {\n      \"column\": \"text\",\n      \"properties\": {\n        \"dtype\": \"string\",\n        \"num_unique_values\": 11631,\n        \"samples\": [\n          \"author abartlet date escapenumber escapenumber escapenumber escapenumber escapenumber escapenumber escapenumber thu escapenumber may escapenumber new revision escapenumber websvn http websvn samba org cgi bin viewcvs cgi view rev root samba rev escapenumber log move to the tcp packet interface for the krbescapenumber send to kdc plugin this replaces a lump of hand crafted code with the generic packet system used in the rest of sambaescapenumber i started this while chasing down the epoll bug which turned out to be seperate modified branches samba escapenumber escapenumber source auth kerberos krbescapenumber init context c changeset modified branches samba escapenumber escapenumber source auth kerberos krbescapenumber init context c branches samba escapenumber escapenumber source auth kerberos krbescapenumber init context c escapenumber escapenumber escapenumber escapenumber escapenumber escapenumber utc rev escapenumber branches samba escapenumber escapenumber source auth kerberos krbescapenumber init context c escapenumber escapenumber escapenumber escapenumber escapenumber escapenumber utc rev escapenumber escapenumber escapenumber escapenumber escapenumber include heimdal lib krbescapenumber krbescapenumber locl h include auth kerberos kerberos h include lib socket socket h include lib stream packet h include system network h include lib events events h include roken h escapenumber escapenumber escapenumber escapenumber the fd event struct fd event fde bool timeout ntstatus status data blob request reply partial data blob request reply struct packet context packet size t partial read escapenumber escapenumber escapenumber escapenumber data blob blob size t nread dsize switch smb krbescapenumber hi proto case krbescapenumber krbhst udp smb krbescapenumber status socket pending smb krbescapenumber sock dsize if nt status is ok smb krbescapenumber status talloc free tmp ctx return blob data blob talloc tmp ctx null dsize if blob data null dsize escapenumber smb krbescapenumber status nt status no memory talloc free tmp ctx return smb krbescapenumber status socket recv smb krbescapenumber sock blob data blob length nread if nt status is ok smb krbescapenumber status talloc free tmp ctx return blob length nread if nread escapenumber smb krbescapenumber status nt status unexpected network error talloc free tmp ctx return debug escapenumber received smb krbescapenumber packet of length d\\\\\\\\n int blob length talloc steal smb krbescapenumber blob data smb krbescapenumber reply blob smb krbescapenumber status socket pending smb krbescapenumber sock dsize if nt status is ok smb krbescapenumber status talloc free tmp ctx break case krbescapenumber krbhst tcp if smb krbescapenumber partial length escapenumber smb krbescapenumber partial data blob talloc smb krbescapenumber null escapenumber if smb krbescapenumber partial data smb krbescapenumber status nt status no memory return smb krbescapenumber partial read escapenumber read in the packet length if smb krbescapenumber partial read escapenumber uintescapenumber t packet length smb krbescapenumber status socket recv smb krbescapenumber sock smb krbescapenumber partial data smb krbescapenumber partial read escapenumber smb krbescapenumber partial read nread todo this should be converted to the packet routines if nt status is ok smb krbescapenumber status return smb krbescapenumber partial read nread if smb krbescapenumber partial read escapenumber return packet length rival smb krbescapenumber partial data escapenumber smb krbescapenumber partial data talloc realloc smb krbescapenumber smb krbescapenumber partial data uintescapenumber t packet length escapenumber if smb krbescapenumber partial data smb krbescapenumber status nt status no memory return smb krbescapenumber partial length packet length escapenumber read in the body smb krbescapenumber status socket recv smb krbescapenumber sock smb krbescapenumber partial data smb krbescapenumber partial read smb krbescapenumber partial length smb krbescapenumber partial read nread if nt status is ok smb krbescapenumber status return smb krbescapenumber partial read nread if smb krbescapenumber partial read smb krbescapenumber partial length return smb krbescapenumber reply data blob talloc smb krbescapenumber smb krbescapenumber partial data escapenumber smb krbescapenumber partial length escapenumber break case krbescapenumber krbhst http return blob data blob talloc tmp ctx null dsize if blob data null dsize escapenumber smb krbescapenumber status nt status no memory talloc free tmp ctx return smb krbescapenumber status socket recv smb krbescapenumber sock blob data blob length nread if nt status is ok smb krbescapenumber status talloc free tmp ctx return blob length nread if nread escapenumber smb krbescapenumber status nt status unexpected network error talloc free tmp ctx return debug escapenumber received smb krbescapenumber packet of length d\\\\\\\\n int blob length talloc steal smb krbescapenumber blob data smb krbescapenumber reply blob talloc free tmp ctx static ntstatus smb krbescapenumber full packet void private data blob data struct smb krbescapenumber socket smb krbescapenumber talloc get type private struct smb krbescapenumber socket talloc steal smb krbescapenumber data data smb krbescapenumber reply data smb krbescapenumber reply length escapenumber smb krbescapenumber reply data escapenumber return nt status ok handle request timeouts escapenumber escapenumber escapenumber escapenumber struct smb krbescapenumber socket smb krbescapenumber talloc get type private struct smb krbescapenumber socket debug escapenumber timed out smb krbescapenumber packet\\\\\\\\n smb krbescapenumber timeout true smb krbescapenumber status nt status io timeout static void smb krbescapenumber error handler void private ntstatus status struct smb krbescapenumber socket smb krbescapenumber talloc get type private struct smb krbescapenumber socket smb krbescapenumber status status handle send events on a smb krbescapenumber socket escapenumber escapenumber escapenumber escapenumber uintescapenumber t flags void private struct smb krbescapenumber socket smb krbescapenumber talloc get type private struct smb krbescapenumber socket if flags event fd write smb krbescapenumber socket send smb krbescapenumber if flags event fd read smb krbescapenumber socket recv smb krbescapenumber switch smb krbescapenumber hi proto case krbescapenumber krbhst udp if flags event fd write smb krbescapenumber socket send smb krbescapenumber if flags event fd read smb krbescapenumber socket recv smb krbescapenumber break case krbescapenumber krbhst tcp if flags event fd read packet recv smb krbescapenumber packet if flags event fd write packet queue run smb krbescapenumber packet break case krbescapenumber krbhst http can't happen break escapenumber escapenumber escapenumber escapenumber talloc free remote addr smb krbescapenumber fde event add fd ev smb krbescapenumber smb krbescapenumber fde event add fd ev smb krbescapenumber sock socket get fd smb krbescapenumber sock event fd autoclose smb krbescapenumber socket handler smb krbescapenumber escapenumber escapenumber escapenumber escapenumber timeval current ofs context kdc timeout escapenumber smb krbescapenumber request timeout smb krbescapenumber event fd writeable smb krbescapenumber fde smb krbescapenumber status nt status ok smb krbescapenumber reply data blob null escapenumber switch hi proto case krbescapenumber krbhst udp event fd writeable smb krbescapenumber fde smb krbescapenumber request send blob break case krbescapenumber krbhst tcp smb krbescapenumber packet packet init smb krbescapenumber if smb krbescapenumber packet null talloc free smb krbescapenumber return enomem packet set private smb krbescapenumber packet smb krbescapenumber packet set socket smb krbescapenumber packet smb krbescapenumber sock packet set callback smb krbescapenumber packet smb krbescapenumber full packet packet set full request smb krbescapenumber packet packet full request uescapenumber packet set error handler smb krbescapenumber packet smb krbescapenumber error handler packet set event context smb krbescapenumber packet ev packet set fde smb krbescapenumber packet smb krbescapenumber fde smb krbescapenumber request data blob talloc smb krbescapenumber null send blob length escapenumber rsival smb krbescapenumber request data escapenumber send blob length memcpy smb krbescapenumber request data escapenumber send blob data send blob length packet send smb krbescapenumber packet smb krbescapenumber request event fd readable smb krbescapenumber fde break case krbescapenumber krbhst http talloc free smb krbescapenumber return einval smb krbescapenumber timeout false smb krbescapenumber status nt status ok smb krbescapenumber reply data blob null escapenumber smb krbescapenumber partial data blob null escapenumber while smb krbescapenumber timeout nt status is ok smb krbescapenumber status smb krbescapenumber reply length while nt status is ok smb krbescapenumber status smb krbescapenumber reply length if event loop once ev escapenumber talloc free smb krbescapenumber return einval if nt status is ok smb krbescapenumber status debug escapenumber error reading smb krbescapenumber reply packet s\\\\\\\\n nt errstr smb krbescapenumber status if nt status equal smb krbescapenumber status nt status io timeout talloc free smb krbescapenumber continue if smb krbescapenumber timeout if nt status is ok smb krbescapenumber status debug escapenumber error reading smb krbescapenumber reply packet s\\\\\\\\n nt errstr smb krbescapenumber status talloc free smb krbescapenumber continue \",\n          \"hey people how frighteningly few are the persons whose death would spoil our appetite and make the world seem empty i wish it christianity were more productive of good works i mean real good works not holy day keeping sermon hearing or making long prayers filled with flatteries and compliments despised by wise men and much less capable of pleasing the deity defend your limitations and you own them http poltavasd com escapelong escapelong htm learning is an ornament in prosperity a refuge in adversity and a provision in old age do not tell a friend anything you would conceal from an enemy equality consists in the same treatment of similar persons the search will continue not until the empirical resources are exhausted need we pass on to the dreamy realms of speculation never give in never never never never in nothing great or small large or petty never give in except to convictions of honor and good sense never yield to force never yield to the apparently overwhelming might of the enemy ak morolung http poltavasd com escapelong escapelong html\",\n          \"mark it has been a while since we last discussed the oracle tibco and beas contacts and what effect if any they will have on our e commerce solutions that we are presenting to third parties as a review the following are the basic sets of offerings escapenumber third parties gas pipelines gas storage companies will post their products on the enrononline website escapenumber enrononline will build a private e marketplace essentially an enrononline look alike for third parties enrononline will host the private e marketplace using enron hardware on enron's premises note a second tier to this offering will allow the same third party to cross post its products simultaneously on enrononline as well as the private e marketplace escapenumber a software license giving a third party the right to use enrononline software but maintain the application and website on its own premises using its own hardware escapenumber a software sale selling the object or source code of enrononline software to third parties at one point we were expecting a response from outside legal council did we ever get anything in writing if so would you please forward it to me we are very close to defining commercial terms for building several private e marketplaces escapenumber above we need to know if certain contractual conflicts exist and if so what freedom do we have please inform us of where you stand on these points so that we can move forward with pricing these options thanks carl carl m carter enrononline llc escapenumber escapenumber escapenumber tel escapenumber escapenumber escapenumber cell escapenumber escapenumber escapenumber fax carl carter enron com\"\n        ],\n        \"semantic_type\": \"\",\n        \"description\": \"\"\n      }\n    },\n    {\n      \"column\": \"EmailID\",\n      \"properties\": {\n        \"dtype\": \"number\",\n        \"std\": 3357,\n        \"min\": 46524,\n        \"max\": 58154,\n        \"num_unique_values\": 11631,\n        \"samples\": [\n          53847,\n          51606,\n          47602\n        ],\n        \"semantic_type\": \"\",\n        \"description\": \"\"\n      }\n    }\n  ]\n}",
              "type": "dataframe",
              "variable_name": "df_test"
            },
            "text/html": [
              "\n",
              "  <div id=\"df-3d631768-0dae-48f2-8a38-5e0146559c03\" class=\"colab-df-container\">\n",
              "    <div>\n",
              "<style scoped>\n",
              "    .dataframe tbody tr th:only-of-type {\n",
              "        vertical-align: middle;\n",
              "    }\n",
              "\n",
              "    .dataframe tbody tr th {\n",
              "        vertical-align: top;\n",
              "    }\n",
              "\n",
              "    .dataframe thead th {\n",
              "        text-align: right;\n",
              "    }\n",
              "</style>\n",
              "<table border=\"1\" class=\"dataframe\">\n",
              "  <thead>\n",
              "    <tr style=\"text-align: right;\">\n",
              "      <th></th>\n",
              "      <th>text</th>\n",
              "      <th>EmailID</th>\n",
              "    </tr>\n",
              "  </thead>\n",
              "  <tbody>\n",
              "    <tr>\n",
              "      <th>0</th>\n",
              "      <td>monika try calling ron heller escapenumber esc...</td>\n",
              "      <td>46524</td>\n",
              "    </tr>\n",
              "    <tr>\n",
              "      <th>1</th>\n",
              "      <td>dear all ,\\nattached is a paper describing the...</td>\n",
              "      <td>46525</td>\n",
              "    </tr>\n",
              "    <tr>\n",
              "      <th>2</th>\n",
              "      <td>arm inc e yo xual des spe ume reas ur se ire r...</td>\n",
              "      <td>46526</td>\n",
              "    </tr>\n",
              "    <tr>\n",
              "      <th>3</th>\n",
              "      <td>you are the man http ourmix hk</td>\n",
              "      <td>46527</td>\n",
              "    </tr>\n",
              "    <tr>\n",
              "      <th>4</th>\n",
              "      <td>kay mann enron com bmm b b b b b b b escapenum...</td>\n",
              "      <td>46528</td>\n",
              "    </tr>\n",
              "  </tbody>\n",
              "</table>\n",
              "</div>\n",
              "    <div class=\"colab-df-buttons\">\n",
              "\n",
              "  <div class=\"colab-df-container\">\n",
              "    <button class=\"colab-df-convert\" onclick=\"convertToInteractive('df-3d631768-0dae-48f2-8a38-5e0146559c03')\"\n",
              "            title=\"Convert this dataframe to an interactive table.\"\n",
              "            style=\"display:none;\">\n",
              "\n",
              "  <svg xmlns=\"http://www.w3.org/2000/svg\" height=\"24px\" viewBox=\"0 -960 960 960\">\n",
              "    <path d=\"M120-120v-720h720v720H120Zm60-500h600v-160H180v160Zm220 220h160v-160H400v160Zm0 220h160v-160H400v160ZM180-400h160v-160H180v160Zm440 0h160v-160H620v160ZM180-180h160v-160H180v160Zm440 0h160v-160H620v160Z\"/>\n",
              "  </svg>\n",
              "    </button>\n",
              "\n",
              "  <style>\n",
              "    .colab-df-container {\n",
              "      display:flex;\n",
              "      gap: 12px;\n",
              "    }\n",
              "\n",
              "    .colab-df-convert {\n",
              "      background-color: #E8F0FE;\n",
              "      border: none;\n",
              "      border-radius: 50%;\n",
              "      cursor: pointer;\n",
              "      display: none;\n",
              "      fill: #1967D2;\n",
              "      height: 32px;\n",
              "      padding: 0 0 0 0;\n",
              "      width: 32px;\n",
              "    }\n",
              "\n",
              "    .colab-df-convert:hover {\n",
              "      background-color: #E2EBFA;\n",
              "      box-shadow: 0px 1px 2px rgba(60, 64, 67, 0.3), 0px 1px 3px 1px rgba(60, 64, 67, 0.15);\n",
              "      fill: #174EA6;\n",
              "    }\n",
              "\n",
              "    .colab-df-buttons div {\n",
              "      margin-bottom: 4px;\n",
              "    }\n",
              "\n",
              "    [theme=dark] .colab-df-convert {\n",
              "      background-color: #3B4455;\n",
              "      fill: #D2E3FC;\n",
              "    }\n",
              "\n",
              "    [theme=dark] .colab-df-convert:hover {\n",
              "      background-color: #434B5C;\n",
              "      box-shadow: 0px 1px 3px 1px rgba(0, 0, 0, 0.15);\n",
              "      filter: drop-shadow(0px 1px 2px rgba(0, 0, 0, 0.3));\n",
              "      fill: #FFFFFF;\n",
              "    }\n",
              "  </style>\n",
              "\n",
              "    <script>\n",
              "      const buttonEl =\n",
              "        document.querySelector('#df-3d631768-0dae-48f2-8a38-5e0146559c03 button.colab-df-convert');\n",
              "      buttonEl.style.display =\n",
              "        google.colab.kernel.accessAllowed ? 'block' : 'none';\n",
              "\n",
              "      async function convertToInteractive(key) {\n",
              "        const element = document.querySelector('#df-3d631768-0dae-48f2-8a38-5e0146559c03');\n",
              "        const dataTable =\n",
              "          await google.colab.kernel.invokeFunction('convertToInteractive',\n",
              "                                                    [key], {});\n",
              "        if (!dataTable) return;\n",
              "\n",
              "        const docLinkHtml = 'Like what you see? Visit the ' +\n",
              "          '<a target=\"_blank\" href=https://colab.research.google.com/notebooks/data_table.ipynb>data table notebook</a>'\n",
              "          + ' to learn more about interactive tables.';\n",
              "        element.innerHTML = '';\n",
              "        dataTable['output_type'] = 'display_data';\n",
              "        await google.colab.output.renderOutput(dataTable, element);\n",
              "        const docLink = document.createElement('div');\n",
              "        docLink.innerHTML = docLinkHtml;\n",
              "        element.appendChild(docLink);\n",
              "      }\n",
              "    </script>\n",
              "  </div>\n",
              "\n",
              "\n",
              "<div id=\"df-cb7956cc-29f7-481f-801d-84acbfc3ad91\">\n",
              "  <button class=\"colab-df-quickchart\" onclick=\"quickchart('df-cb7956cc-29f7-481f-801d-84acbfc3ad91')\"\n",
              "            title=\"Suggest charts\"\n",
              "            style=\"display:none;\">\n",
              "\n",
              "<svg xmlns=\"http://www.w3.org/2000/svg\" height=\"24px\"viewBox=\"0 0 24 24\"\n",
              "     width=\"24px\">\n",
              "    <g>\n",
              "        <path d=\"M19 3H5c-1.1 0-2 .9-2 2v14c0 1.1.9 2 2 2h14c1.1 0 2-.9 2-2V5c0-1.1-.9-2-2-2zM9 17H7v-7h2v7zm4 0h-2V7h2v10zm4 0h-2v-4h2v4z\"/>\n",
              "    </g>\n",
              "</svg>\n",
              "  </button>\n",
              "\n",
              "<style>\n",
              "  .colab-df-quickchart {\n",
              "      --bg-color: #E8F0FE;\n",
              "      --fill-color: #1967D2;\n",
              "      --hover-bg-color: #E2EBFA;\n",
              "      --hover-fill-color: #174EA6;\n",
              "      --disabled-fill-color: #AAA;\n",
              "      --disabled-bg-color: #DDD;\n",
              "  }\n",
              "\n",
              "  [theme=dark] .colab-df-quickchart {\n",
              "      --bg-color: #3B4455;\n",
              "      --fill-color: #D2E3FC;\n",
              "      --hover-bg-color: #434B5C;\n",
              "      --hover-fill-color: #FFFFFF;\n",
              "      --disabled-bg-color: #3B4455;\n",
              "      --disabled-fill-color: #666;\n",
              "  }\n",
              "\n",
              "  .colab-df-quickchart {\n",
              "    background-color: var(--bg-color);\n",
              "    border: none;\n",
              "    border-radius: 50%;\n",
              "    cursor: pointer;\n",
              "    display: none;\n",
              "    fill: var(--fill-color);\n",
              "    height: 32px;\n",
              "    padding: 0;\n",
              "    width: 32px;\n",
              "  }\n",
              "\n",
              "  .colab-df-quickchart:hover {\n",
              "    background-color: var(--hover-bg-color);\n",
              "    box-shadow: 0 1px 2px rgba(60, 64, 67, 0.3), 0 1px 3px 1px rgba(60, 64, 67, 0.15);\n",
              "    fill: var(--button-hover-fill-color);\n",
              "  }\n",
              "\n",
              "  .colab-df-quickchart-complete:disabled,\n",
              "  .colab-df-quickchart-complete:disabled:hover {\n",
              "    background-color: var(--disabled-bg-color);\n",
              "    fill: var(--disabled-fill-color);\n",
              "    box-shadow: none;\n",
              "  }\n",
              "\n",
              "  .colab-df-spinner {\n",
              "    border: 2px solid var(--fill-color);\n",
              "    border-color: transparent;\n",
              "    border-bottom-color: var(--fill-color);\n",
              "    animation:\n",
              "      spin 1s steps(1) infinite;\n",
              "  }\n",
              "\n",
              "  @keyframes spin {\n",
              "    0% {\n",
              "      border-color: transparent;\n",
              "      border-bottom-color: var(--fill-color);\n",
              "      border-left-color: var(--fill-color);\n",
              "    }\n",
              "    20% {\n",
              "      border-color: transparent;\n",
              "      border-left-color: var(--fill-color);\n",
              "      border-top-color: var(--fill-color);\n",
              "    }\n",
              "    30% {\n",
              "      border-color: transparent;\n",
              "      border-left-color: var(--fill-color);\n",
              "      border-top-color: var(--fill-color);\n",
              "      border-right-color: var(--fill-color);\n",
              "    }\n",
              "    40% {\n",
              "      border-color: transparent;\n",
              "      border-right-color: var(--fill-color);\n",
              "      border-top-color: var(--fill-color);\n",
              "    }\n",
              "    60% {\n",
              "      border-color: transparent;\n",
              "      border-right-color: var(--fill-color);\n",
              "    }\n",
              "    80% {\n",
              "      border-color: transparent;\n",
              "      border-right-color: var(--fill-color);\n",
              "      border-bottom-color: var(--fill-color);\n",
              "    }\n",
              "    90% {\n",
              "      border-color: transparent;\n",
              "      border-bottom-color: var(--fill-color);\n",
              "    }\n",
              "  }\n",
              "</style>\n",
              "\n",
              "  <script>\n",
              "    async function quickchart(key) {\n",
              "      const quickchartButtonEl =\n",
              "        document.querySelector('#' + key + ' button');\n",
              "      quickchartButtonEl.disabled = true;  // To prevent multiple clicks.\n",
              "      quickchartButtonEl.classList.add('colab-df-spinner');\n",
              "      try {\n",
              "        const charts = await google.colab.kernel.invokeFunction(\n",
              "            'suggestCharts', [key], {});\n",
              "      } catch (error) {\n",
              "        console.error('Error during call to suggestCharts:', error);\n",
              "      }\n",
              "      quickchartButtonEl.classList.remove('colab-df-spinner');\n",
              "      quickchartButtonEl.classList.add('colab-df-quickchart-complete');\n",
              "    }\n",
              "    (() => {\n",
              "      let quickchartButtonEl =\n",
              "        document.querySelector('#df-cb7956cc-29f7-481f-801d-84acbfc3ad91 button');\n",
              "      quickchartButtonEl.style.display =\n",
              "        google.colab.kernel.accessAllowed ? 'block' : 'none';\n",
              "    })();\n",
              "  </script>\n",
              "</div>\n",
              "\n",
              "    </div>\n",
              "  </div>\n"
            ],
            "text/plain": [
              "                                                text  EmailID\n",
              "0  monika try calling ron heller escapenumber esc...    46524\n",
              "1  dear all ,\\nattached is a paper describing the...    46525\n",
              "2  arm inc e yo xual des spe ume reas ur se ire r...    46526\n",
              "3                     you are the man http ourmix hk    46527\n",
              "4  kay mann enron com bmm b b b b b b b escapenum...    46528"
            ]
          },
          "execution_count": 21,
          "metadata": {},
          "output_type": "execute_result"
        }
      ],
      "source": [
        "# Import test data to a dataframe\n",
        "df_test = pd.read_csv('/content/drive/MyDrive/Colab Notebooks/Spam Classification Competition/test.csv')\n",
        "\n",
        "df_test.head()"
      ]
    },
    {
      "cell_type": "code",
      "execution_count": 22,
      "metadata": {
        "id": "_l42u45sm8ht"
      },
      "outputs": [],
      "source": [
        "# Separate decision variable\n",
        "x2_test = df_test['text']\n",
        "\n",
        "# Separate email IDs\n",
        "emailID = df_test['EmailID']"
      ]
    },
    {
      "cell_type": "code",
      "execution_count": 23,
      "metadata": {
        "colab": {
          "base_uri": "https://localhost:8080/"
        },
        "id": "djqPDtulPEdp",
        "outputId": "766fddf2-9b55-441c-a626-c404ac4ce2d6"
      },
      "outputs": [
        {
          "data": {
            "text/plain": [
              "0        monika try calling ron heller escapenumber esc...\n",
              "1        dear attached paper describing proposed method...\n",
              "2        arm inc e yo xual de spe ume reas ur se ire rm...\n",
              "3                                       man http ourmix hk\n",
              "4        kay mann enron com bmm b b b b b b b escapenum...\n",
              "                               ...                        \n",
              "11626    start date hourahead hour ancillary schedule a...\n",
              "11627    customer service rep please contact customer p...\n",
              "11628    legal operating system quarter price office x ...\n",
              "11629    plan conference call escapenumberpm sunday dis...\n",
              "11630    original message thomas padron enron sent mond...\n",
              "Name: text, Length: 11631, dtype: object"
            ]
          },
          "execution_count": 23,
          "metadata": {},
          "output_type": "execute_result"
        }
      ],
      "source": [
        "# Normalize x\n",
        "\n",
        "# Lowercase\n",
        "x2_test = x2_test.apply(lambda row: row.lower())\n",
        "\n",
        "# Tokenize\n",
        "x2_test = x2_test.apply(lambda row: nltk.word_tokenize(row))\n",
        "\n",
        "# Remove non alphabetic characters\n",
        "x2_test = x2_test.apply(lambda row: [re.sub(r'[^a-zA-Z]','', token) for token in row if token.isalpha()])\n",
        "\n",
        "# Remove stopwords\n",
        "x2_test = x2_test.apply(lambda row: [token for token in row if token not in stop_words])\n",
        "\n",
        "# Lemmatize tokens\n",
        "x2_test = x2_test.apply(lambda row: [lemmatizer.lemmatize(token) for token in row])\n",
        "\n",
        "# Join tokens back together\n",
        "x2_test = x2_test.apply(lambda row: ' '.join(row))\n",
        "\n",
        "x2_test"
      ]
    },
    {
      "cell_type": "code",
      "execution_count": 24,
      "metadata": {
        "id": "IWhK-RHaQZjU"
      },
      "outputs": [],
      "source": [
        "# Vectorize x\n",
        "x2_test_tf = vectorizer.transform(x2_test)"
      ]
    },
    {
      "cell_type": "code",
      "execution_count": null,
      "metadata": {
        "id": "SypnPZxoQS5F"
      },
      "outputs": [],
      "source": [
        "# Make the predictions using the Naive Bayes Model\n",
        "y2_pred = classifier.predict(x2_test_tf)      # The first Kaggle Submission"
      ]
    },
    {
      "cell_type": "code",
      "execution_count": 25,
      "metadata": {
        "id": "8Go-uFAr1qGA"
      },
      "outputs": [],
      "source": [
        "# Make the predictions using the Support Vector Machine Model\n",
        "y2_pred2 = svmModel.predict(x2_test_tf)       # The second Kaggle Submission"
      ]
    },
    {
      "cell_type": "code",
      "execution_count": 26,
      "metadata": {
        "id": "EiCrAD14oCIY"
      },
      "outputs": [],
      "source": [
        "# Create Submission dataframe SVM predictions used since it has a better f1 score\n",
        "df_sub = pd.DataFrame({'EmailID': emailID,'Label': l.inverse_transform(y2_pred2)})\n",
        "\n",
        "# Export submission data to csv\n",
        "df_sub.to_csv('submission.csv', index=False)"
      ]
    }
  ],
  "metadata": {
    "colab": {
      "gpuType": "T4",
      "provenance": []
    },
    "kernelspec": {
      "display_name": "Python 3",
      "name": "python3"
    },
    "language_info": {
      "name": "python"
    }
  },
  "nbformat": 4,
  "nbformat_minor": 0
}
